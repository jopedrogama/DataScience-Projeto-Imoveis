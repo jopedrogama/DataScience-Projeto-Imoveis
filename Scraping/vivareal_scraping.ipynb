{
 "cells": [
  {
   "cell_type": "code",
   "execution_count": 12,
   "id": "78f5a340-d3bc-4fc1-8e0d-d1ee2027232a",
   "metadata": {},
   "outputs": [],
   "source": [
    "# from selenium import webdriver\n",
    "# import time\n",
    "\n",
    "# driver = webdriver.Chrome()\n",
    "# driver.get(\"https://www.vivareal.com.br/imovel/apartamento-1-quartos-jardim-goias-bairros-goiania-com-garagem-42m2-venda-RS440000-id-2536396602/\")\n",
    "# time.sleep(1)\n",
    "# driver.execute_script('''document.getElementsByClassName('map__navigate js-navigate')[0].click()''')\n",
    "# time.sleep(1)\n",
    "# html_from_page = driver.page_source\n",
    "# # driver.close()\n",
    "# # print(html_from_page)"
   ]
  },
  {
   "cell_type": "code",
   "execution_count": 126,
   "id": "c546a275-9a8b-411d-9c81-f4512d123d13",
   "metadata": {},
   "outputs": [],
   "source": [
    "import requests\n",
    "\n",
    "r = requests.get(\"https://www.vivareal.com.br/imovel/apartamento-1-quartos-jardim-goias-bairros-goiania-com-garagem-42m2-venda-RS440000-id-2536396602/\")\n",
    "# r = requests.get(\"https://www.vivareal.com.br/imoveis-lancamento/on-marista-2519073590/\")\n",
    "html = r.text\n"
   ]
  },
  {
   "cell_type": "code",
   "execution_count": 127,
   "id": "cf4b0b7e-ce48-4c80-8121-c21a8d3842a0",
   "metadata": {},
   "outputs": [],
   "source": [
    "from bs4 import BeautifulSoup\n",
    "\n",
    "soup = BeautifulSoup(html, 'html.parser')"
   ]
  },
  {
   "cell_type": "code",
   "execution_count": 128,
   "id": "8e4e7be8-662b-49eb-8074-3d6db64d9d9e",
   "metadata": {},
   "outputs": [
    {
     "name": "stdout",
     "output_type": "stream",
     "text": [
      "revenda\n",
      "  42m²  \n",
      "  1 quarto  \n",
      "  1 banheiro    \n",
      " 1 suíte \n",
      " R$ 380 \n",
      " R$ 800 \n",
      "   R$ 440.000   \n",
      "  1 vaga  \n",
      "Avenida Deputado Jamel Cecílio, 2690 - Jardim Goiás, Goiânia - GO\n",
      "-16.704997\n",
      "-49.240821\n"
     ]
    }
   ],
   "source": [
    "import re\n",
    "try:\n",
    "    m2 = soup.find(\"li\", attrs={\"class\":\"features__item features__item--area js-area\"}).text\n",
    "except:\n",
    "    m2 = None\n",
    "try:\n",
    "    bedrooms = soup.find(\"li\", attrs={\"class\": \"features__item features__item--bedroom js-bedrooms\"}).text\n",
    "except:\n",
    "    bedrooms = None\n",
    "try:\n",
    "    bathrooms = soup.find(\"li\", attrs={\"class\": \"features__item features__item--bathroom js-bathrooms\"}).find(text=True, recursive=False)\n",
    "except:\n",
    "    bathrooms = None\n",
    "try:\n",
    "    suite = soup.find(\"small\", attrs={\"class\": \"features__extra-info\"}).text\n",
    "except:\n",
    "    suite = None\n",
    "try:\n",
    "    condominio = soup.find(\"span\", attrs={\"class\": \"price__list-value condominium js-condominium\"}).text\n",
    "except:\n",
    "    condominio = None\n",
    "try:\n",
    "    iptu = soup.find(\"span\", attrs={\"class\": \"price__list-value iptu js-iptu\"}).text\n",
    "except:\n",
    "    iptu = None\n",
    "try:\n",
    "    price = soup.find(\"h3\", attrs={\"class\": \"price__price-info js-price-sale\"}).text\n",
    "except:\n",
    "    price =None\n",
    "try:\n",
    "    parking = soup.find(\"li\", attrs={\"class\": \"features__item features__item--parking js-parking\"}).text\n",
    "except:\n",
    "    parking = None\n",
    "try:\n",
    "    address = soup.find(\"p\", attrs={\"class\": \"title__address js-address\"}).text\n",
    "except:\n",
    "    address = None\n",
    "try:\n",
    "    latitude = soup.find(\"meta\", attrs={\"property\":\"place:location:latitude\"})['content']\n",
    "except:\n",
    "    latitude = None\n",
    "try:\n",
    "    longitude = soup.find(\"meta\", attrs={\"property\": \"place:location:longitude\"})['content']\n",
    "except:\n",
    "    longitude = None\n",
    "try:\n",
    "    ads_amount = str(soup.find(\"script\",text=re.compile(\"advertiserLinks\")))\n",
    "    teste = (ads_amount.split('''advertiserLinks\":[''')[1])\n",
    "    url = teste.split('''href\":\"''')[1].split('\"')[0]\n",
    "    url = \"https://www.vivareal.com.br/\"+url\n",
    "    request_seller = requests.get(url)\n",
    "    seller_soup = BeautifulSoup(request_seller.text, 'html.parser')\n",
    "    amount_for_sale = int(seller_soup.find(\"strong\", attrs={\"class\": \"results-summary__count js-total-records\"}).text)\n",
    "\n",
    "except:\n",
    "    ads_amount = None\n",
    "\n",
    "\n",
    "if(amount_for_sale<=1):\n",
    "    print(\"revenda\")\n",
    "else:\n",
    "    print(\"corretora\")\n",
    "\n",
    "print(m2)\n",
    "print(bedrooms)\n",
    "print(bathrooms)\n",
    "print(suite)\n",
    "print(condominio)\n",
    "print(iptu)\n",
    "print(price)\n",
    "print(parking)\n",
    "print(address)\n",
    "print(latitude)\n",
    "print(longitude)"
   ]
  },
  {
   "cell_type": "markdown",
   "id": "f709979b-4e01-4788-aa37-77a7d40bdfcf",
   "metadata": {},
   "source": [
    "# Clean data"
   ]
  },
  {
   "cell_type": "code",
   "execution_count": 129,
   "id": "704bc9bd-282c-4774-8a71-4a99bcf140e1",
   "metadata": {},
   "outputs": [
    {
     "name": "stdout",
     "output_type": "stream",
     "text": [
      "42\n",
      "<class 'int'>\n",
      "1\n",
      "<class 'int'>\n",
      "1\n",
      "<class 'int'>\n",
      "1\n",
      "<class 'int'>\n",
      "380.0\n",
      "<class 'float'>\n",
      "800.0\n",
      "<class 'float'>\n",
      "440000.0\n",
      "<class 'float'>\n",
      "1\n",
      "<class 'int'>\n"
     ]
    }
   ],
   "source": [
    "import re\n",
    "m2_cleaned = int(re.sub(\"[^0-9]\", \"\", m2))\n",
    "\n",
    "\n",
    "bedrooms_cleaned = int(re.sub(\"[^0-9]\", \"\", bedrooms))\n",
    "bathrooms_cleaned = int(re.sub(\"[^0-9]\", \"\", bathrooms))\n",
    "suite_cleaned = int(re.sub(\"[^0-9]\", \"\", suite))\n",
    "condominio_cleaned = float(re.sub(\"[^0-9]\", \"\", condominio))\n",
    "iptu_cleaned = float(re.sub(\"[^0-9]\", \"\", iptu))\n",
    "price_cleaned = float(re.sub(\"[^0-9]\", \"\", price))\n",
    "parking_cleaned = int(re.sub(\"[^0-9]\", \"\", parking))\n",
    "\n",
    "\n",
    "print(m2_cleaned)\n",
    "print(type(m2_cleaned))\n",
    "\n",
    "print(bedrooms_cleaned)\n",
    "print(type(bedrooms_cleaned))\n",
    "                    \n",
    "print(bathrooms_cleaned)\n",
    "print(type(bathrooms_cleaned))\n",
    "\n",
    "print(suite_cleaned)\n",
    "print(type(suite_cleaned))\n",
    "                    \n",
    "print(condominio_cleaned)\n",
    "print(type(condominio_cleaned))\n",
    "\n",
    "print(iptu_cleaned)\n",
    "print(type(iptu_cleaned))\n",
    "\n",
    "print(price_cleaned)\n",
    "print(type(price_cleaned))\n",
    "\n",
    "print(parking_cleaned)\n",
    "print(type(parking_cleaned))"
   ]
  },
  {
   "cell_type": "code",
   "execution_count": 130,
   "id": "cc3c51f6-e2b2-4c23-ac8b-bd063972a159",
   "metadata": {},
   "outputs": [
    {
     "name": "stdout",
     "output_type": "stream",
     "text": [
      "Avenida Deputado Jamel Cecílio, 2690\n",
      "Jardim Goiás\n",
      "Goiânia\n",
      "GO\n"
     ]
    }
   ],
   "source": [
    "\n",
    "final_address, temp_address ,state  = address.split(\" - \")\n",
    "neighborhood, city  = temp_address.split(\", \")\n",
    "\n",
    "\n",
    "print(final_address)\n",
    "print(neighborhood)\n",
    "print(city)\n",
    "print(state)"
   ]
  },
  {
   "cell_type": "code",
   "execution_count": null,
   "id": "2c4a3ec9-b867-4466-8001-e43fdb3db8e4",
   "metadata": {},
   "outputs": [],
   "source": []
  },
  {
   "cell_type": "code",
   "execution_count": null,
   "id": "2f2dd6aa-29bd-4176-87b4-0b5e2e85b7d7",
   "metadata": {},
   "outputs": [],
   "source": []
  }
 ],
 "metadata": {
  "kernelspec": {
   "display_name": "Python 3",
   "language": "python",
   "name": "python3"
  },
  "language_info": {
   "codemirror_mode": {
    "name": "ipython",
    "version": 3
   },
   "file_extension": ".py",
   "mimetype": "text/x-python",
   "name": "python",
   "nbconvert_exporter": "python",
   "pygments_lexer": "ipython3",
   "version": "3.8.8"
  }
 },
 "nbformat": 4,
 "nbformat_minor": 5
}
